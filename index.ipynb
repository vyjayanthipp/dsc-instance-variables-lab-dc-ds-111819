{
 "cells": [
  {
   "cell_type": "markdown",
   "metadata": {},
   "source": [
    "# Instance Variables - Lab"
   ]
  },
  {
   "cell_type": "markdown",
   "metadata": {},
   "source": [
    "## Introduction\n",
    "In this lab, you'll practice using instance variables, which you use to store information about a particular instance object. You will continue to use our `fuber` theme and create some methods that operate on our instance variables to return some valuable information about the passenger and driver instance objects."
   ]
  },
  {
   "cell_type": "markdown",
   "metadata": {},
   "source": [
    "## Objectives\n",
    "\n",
    "In this lab you will: \n",
    "\n",
    "* Define and call an instance method\n",
    "* Define and access instance attributes"
   ]
  },
  {
   "cell_type": "markdown",
   "metadata": {},
   "source": [
    "## Define classes"
   ]
  },
  {
   "cell_type": "markdown",
   "metadata": {},
   "source": [
    "Below, define classes for both the `Driver` and `Passenger` classes -- for now just define the classes and remember to include the keyword `pass` so that you'll have valid syntax for the classes."
   ]
  },
  {
   "cell_type": "code",
   "execution_count": 1,
   "metadata": {},
   "outputs": [],
   "source": [
    "# Driver class\n",
    "class Driver:\n",
    "    pass\n",
    "\n"
   ]
  },
  {
   "cell_type": "code",
   "execution_count": 2,
   "metadata": {},
   "outputs": [],
   "source": [
    "# Passenger class\n",
    "class Passenger:\n",
    "    pass\n"
   ]
  },
  {
   "cell_type": "markdown",
   "metadata": {},
   "source": [
    "Next, instantiate a new instance of a passenger and a new instance of a driver. Give the passenger a `rating` of `4.9` and give the driver a `miles_driven` attribute of `100,000`."
   ]
  },
  {
   "cell_type": "code",
   "execution_count": 4,
   "metadata": {},
   "outputs": [],
   "source": [
    "# Assign a driver instance\n",
    "driver = Driver()\n",
    "\n",
    "# Give the driver instance object 'miles_driven' of 100000\n",
    "driver.miles_driven = 100000\n"
   ]
  },
  {
   "cell_type": "code",
   "execution_count": 5,
   "metadata": {},
   "outputs": [],
   "source": [
    "# Assign a passenger instance\n",
    "passenger = Passenger()\n",
    "\n",
    "# Give the passenger instance object a 'rating' of 4.9\n",
    "passenger.rating = 4.9\n"
   ]
  },
  {
   "cell_type": "markdown",
   "metadata": {},
   "source": [
    "## Search attributes using functions \n",
    "\n",
    "Your next challenge is to build a function to find a driver with a given name. The function should take two inputs, `drivers` and `search_names`. `drivers` will be a list of driver objects (instances of the class you defined above) and `search_name` will be a string for the driver name you wish to search from. \n",
    "\n",
    "The function should then return the first driver object from drivers whose name is an exact match to the search name. If there is no driver that matches the name searched for, then the function should return `None` and print a string stating \"Sorry we couldn't find a driver with the name, ____! :\\(\". \n",
    "\n",
    "For example, if there were no results for the search name \"Jack\" your function should return `None` and print:\n",
    "\n",
    "```python\n",
    "\"Sorry, we couldn't find a driver with the name, Jack! :(\"\n",
    "```"
   ]
  },
  {
   "cell_type": "code",
   "execution_count": 16,
   "metadata": {},
   "outputs": [],
   "source": [
    "def find_driver_by_name(drivers, search_names):\n",
    "    #driverFound = None\n",
    "    # Write your code here\n",
    "    for driver in drivers:\n",
    "        if (driver.name == search_names):\n",
    "            return driver    \n",
    "    print(\"Sorry, we couldn't find a driver with the name, {}:(\", search_names)\n",
    "    \n",
    "        \n",
    "        \n",
    "    \n",
    "     "
   ]
  },
  {
   "cell_type": "markdown",
   "metadata": {},
   "source": [
    "To test your function, here are some arbitrary definitions to create instances of your `Driver` class. Run the cell below to load them into memory:  "
   ]
  },
  {
   "cell_type": "code",
   "execution_count": 8,
   "metadata": {},
   "outputs": [],
   "source": [
    "# Create drivers with relevant attributes\n",
    "alex_driver = Driver()\n",
    "alex_driver.name = \"alex\"\n",
    "alex_driver.rating = 9.0\n",
    "\n",
    "michelle_driver = Driver()\n",
    "michelle_driver.name = \"michelle\"\n",
    "michelle_driver.rating = 8.0\n",
    "\n",
    "jake_driver = Driver()\n",
    "jake_driver.name = \"jake\"\n",
    "jake_driver.rating = 9.7\n",
    "\n",
    "ashleigh_driver = Driver()\n",
    "ashleigh_driver.name = \"ashleigh\"\n",
    "ashleigh_driver.rating = 8.75\n",
    "\n",
    "list_of_drivers = [alex_driver, michelle_driver, jake_driver, ashleigh_driver]"
   ]
  },
  {
   "cell_type": "markdown",
   "metadata": {},
   "source": [
    "Use `find_driver_by_name()` along with `list_of_drivers` to check if the following drivers exist: \n",
    "\n",
    "- `\"jake\"` \n",
    "- `\"michelle\"` \n",
    "- `\"allison\"` "
   ]
  },
  {
   "cell_type": "code",
   "execution_count": 9,
   "metadata": {},
   "outputs": [
    {
     "data": {
      "text/plain": [
       "<__main__.Driver at 0x109d5bd90>"
      ]
     },
     "execution_count": 9,
     "metadata": {},
     "output_type": "execute_result"
    }
   ],
   "source": [
    "# Find \"jake\"\n",
    "output_1 = find_driver_by_name(list_of_drivers, \"jake\")\n",
    "output_1"
   ]
  },
  {
   "cell_type": "code",
   "execution_count": 10,
   "metadata": {},
   "outputs": [
    {
     "data": {
      "text/plain": [
       "<__main__.Driver at 0x109d48ad0>"
      ]
     },
     "execution_count": 10,
     "metadata": {},
     "output_type": "execute_result"
    }
   ],
   "source": [
    "# Find \"michelle\"\n",
    "output_2 = find_driver_by_name(list_of_drivers, \"michelle\")\n",
    "output_2"
   ]
  },
  {
   "cell_type": "code",
   "execution_count": 17,
   "metadata": {},
   "outputs": [
    {
     "name": "stdout",
     "output_type": "stream",
     "text": [
      "Sorry, we couldn't find a driver with the name, {}:( allison\n"
     ]
    }
   ],
   "source": [
    "# Find \"allison\"\n",
    "output_3 = find_driver_by_name(list_of_drivers, \"allison\")\n",
    "output_3"
   ]
  },
  {
   "cell_type": "markdown",
   "metadata": {},
   "source": [
    "If you correctly defined `find_driver_by_name()`, the first two calls should have returned `Driver` objects, while the third should have printed the apology statement and returned `None`. (You can further inspect the final output to verify this using the `type()` function which should reveal that the output is indeed a `Nonetype`).\n",
    "\n",
    "\n",
    "While perhaps moderately useful, the function as written is rather brittle. Misspelling a driver's name will lead to no results. As such, write a more general function called `name_starts_with()` that will return a list of instance objects that start with a given substring. "
   ]
  },
  {
   "cell_type": "code",
   "execution_count": 22,
   "metadata": {},
   "outputs": [],
   "source": [
    "# Write your function here that returns the list of \n",
    "# instance objects whose name starts with the given substring\n",
    "def name_starts_with(drivers, substring):\n",
    "    starts_with = []\n",
    "    for driver in drivers:\n",
    "        if driver.name.startswith(substring):\n",
    "            starts_with.append(driver)\n",
    "    return starts_with"
   ]
  },
  {
   "cell_type": "markdown",
   "metadata": {},
   "source": [
    "Use `name_starts_with()` and `list_of_drivers` to find all drivers whose name start with `'a'`: "
   ]
  },
  {
   "cell_type": "code",
   "execution_count": 38,
   "metadata": {},
   "outputs": [
    {
     "name": "stdout",
     "output_type": "stream",
     "text": [
      "alex\n",
      "ashleigh\n"
     ]
    }
   ],
   "source": [
    "# Drivers whose name start with 'a'\n",
    "name_starts_a = name_starts_with(list_of_drivers, 'a')\n",
    "\n",
    "def print_drivers(drivers):\n",
    "    for driver in drivers:\n",
    "        print(driver.name)\n",
    "        \n",
    "print_drivers(name_starts_a)"
   ]
  },
  {
   "cell_type": "markdown",
   "metadata": {},
   "source": [
    "Finally, define a function that returns the instance object of the driver with the highest rating: "
   ]
  },
  {
   "cell_type": "code",
   "execution_count": 66,
   "metadata": {},
   "outputs": [
    {
     "data": {
      "text/plain": [
       "'jake'"
      ]
     },
     "execution_count": 66,
     "metadata": {},
     "output_type": "execute_result"
    }
   ],
   "source": [
    "# Write your function here that returns the driver with the highest rating\n",
    "#sort drivers based on rating in desc order.\n",
    "#return the first item  in the list (as listed is sorted)\n",
    "def highest_rated_driver(drivers):\n",
    "    sorted_drivers = sorted(list_of_drivers, key=lambda driver: driver.rating,reverse=True)\n",
    "    return sorted_drivers[0]\n",
    "\n",
    "\n",
    "hightest_rated_driver = highest_rated_driver(list_of_drivers) \n",
    "hightest_rated_driver.name"
   ]
  },
  {
   "cell_type": "code",
   "execution_count": 40,
   "metadata": {},
   "outputs": [
    {
     "name": "stdout",
     "output_type": "stream",
     "text": [
      "jake\n",
      "alex\n",
      "ashleigh\n",
      "michelle\n"
     ]
    }
   ],
   "source": [
    "sorted_drivers = sorted(list_of_drivers, key=lambda driver: driver.rating,reverse=True)\n",
    "\n",
    "print_drivers(sorted_drivers)\n"
   ]
  },
  {
   "cell_type": "code",
   "execution_count": null,
   "metadata": {},
   "outputs": [],
   "source": []
  },
  {
   "cell_type": "code",
   "execution_count": 47,
   "metadata": {},
   "outputs": [
    {
     "name": "stdout",
     "output_type": "stream",
     "text": [
      "{'name': 'jake', 'rating': 9.7}\n"
     ]
    }
   ],
   "source": [
    "from pprint import pprint\n",
    "pprint(vars(hightest_rated_driver))"
   ]
  },
  {
   "cell_type": "markdown",
   "metadata": {},
   "source": [
    "Use this function to find the highest rated driver: "
   ]
  },
  {
   "cell_type": "code",
   "execution_count": null,
   "metadata": {},
   "outputs": [],
   "source": [
    "# Find the driver with the highest rating\n"
   ]
  },
  {
   "cell_type": "markdown",
   "metadata": {},
   "source": [
    "## Want more? "
   ]
  },
  {
   "cell_type": "markdown",
   "metadata": {},
   "source": [
    "Define a `NewDriver` class with an instance method called `passenger_names()`. This method accesses the `passengers` attribute of the class and returns a list of all `name`s associated with `passengers`. "
   ]
  },
  {
   "cell_type": "code",
   "execution_count": 60,
   "metadata": {},
   "outputs": [],
   "source": [
    "# Define the NewDriver class\n",
    "class NewDriver:\n",
    "    def passenger_names(self):\n",
    "        #Iterate through passengers\n",
    "        #retrieve passenger name\n",
    "        #add passenger to list\n",
    "        #return passeger names\n",
    "        passenger_names = []\n",
    "        for passenger in self.passengers:\n",
    "            passenger_names.append(passenger.name)\n",
    "        \n",
    "        return passenger_names\n",
    "      \n"
   ]
  },
  {
   "cell_type": "markdown",
   "metadata": {},
   "source": [
    "Before we proceed, run the following cell that creates four passenger objects and a `list_of_passengers`: "
   ]
  },
  {
   "cell_type": "code",
   "execution_count": 61,
   "metadata": {},
   "outputs": [],
   "source": [
    "# Passengers \n",
    "alex_passenger = Passenger()\n",
    "alex_passenger.name = \"alex\"\n",
    "\n",
    "michelle_passenger = Passenger()\n",
    "michelle_passenger.name = \"michelle\"\n",
    "\n",
    "jake_passenger = Passenger()\n",
    "jake_passenger.name = \"jake\"\n",
    "\n",
    "ashleigh_passenger = Passenger()\n",
    "ashleigh_passenger.name = \"ashleigh\"\n",
    "\n",
    "list_of_passengers = [alex_passenger, michelle_passenger, jake_passenger, ashleigh_passenger]"
   ]
  },
  {
   "cell_type": "markdown",
   "metadata": {},
   "source": [
    "Now, instantiate a `NewDriver` class called `best_driver` that has the attributes `name`, `car_make`, `car_model`, `age`, and `passengers`: "
   ]
  },
  {
   "cell_type": "code",
   "execution_count": 62,
   "metadata": {},
   "outputs": [],
   "source": [
    "# Instantiate a NewDriver class object\n",
    "best_driver = NewDriver()\n",
    "\n",
    "# Add the name attribute and assign it 'Garol'\n",
    "best_driver.name = 'Garol'\n",
    "\n",
    "\n",
    "# Add the car_make attribute and assign it 'toyota'\n",
    "best_driver.car_make = 'toyota'\n",
    "\n",
    "# Add the car_model attribute and assign it 'camry'\n",
    "best_driver.car_model = 'camry'\n",
    "\n",
    "# Add the age attribute and assign it 30\n",
    "best_driver.age = 30\n",
    "\n",
    "# Add the passengers attribute and assign it to list_of_passengers\n",
    "best_driver.passengers = list_of_passengers\n"
   ]
  },
  {
   "cell_type": "markdown",
   "metadata": {},
   "source": [
    "Alright, great! Now you have some attributes on the driver that you can work with. Create an instance method in the NewDriver class called `passenger_names` which returns a list of all the passengers' names/\n",
    "Your output should look like `['alex', 'michelle', 'jake', 'ashleigh']`. \n",
    "\n",
    "Well done! You have all the necessary information for your `best_driver`. In the previous cell, you assigned some passengers to this driver. What are their names?  "
   ]
  },
  {
   "cell_type": "code",
   "execution_count": 65,
   "metadata": {},
   "outputs": [
    {
     "name": "stdout",
     "output_type": "stream",
     "text": [
      "['alex', 'michelle', 'jake', 'ashleigh']\n",
      "[<__main__.Passenger object at 0x109edbf90>, <__main__.Passenger object at 0x109edbb10>, <__main__.Passenger object at 0x109edbb90>, <__main__.Passenger object at 0x109edba50>]\n",
      "alex\n",
      "michelle\n",
      "jake\n",
      "ashleigh\n",
      "None\n"
     ]
    }
   ],
   "source": [
    "# Find the names of the passengers\n",
    "\n",
    "names_of_passengers = best_driver.passenger_names()\n",
    "print(names_of_passengers)\n",
    "\n",
    "print(list_of_passengers)\n",
    "\n",
    "print(print_drivers(list_of_passengers))"
   ]
  },
  {
   "cell_type": "markdown",
   "metadata": {},
   "source": [
    "## Summary"
   ]
  },
  {
   "cell_type": "markdown",
   "metadata": {},
   "source": [
    "In this lab, you practiced creating instance variables that add information to our instance objects. You then used these instance methods to return information about the instances themselves."
   ]
  }
 ],
 "metadata": {
  "kernelspec": {
   "display_name": "Python 3",
   "language": "python",
   "name": "python3"
  },
  "language_info": {
   "codemirror_mode": {
    "name": "ipython",
    "version": 3
   },
   "file_extension": ".py",
   "mimetype": "text/x-python",
   "name": "python",
   "nbconvert_exporter": "python",
   "pygments_lexer": "ipython3",
   "version": "3.7.4"
  }
 },
 "nbformat": 4,
 "nbformat_minor": 2
}
